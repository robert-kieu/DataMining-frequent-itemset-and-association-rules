{
 "cells": [
  {
   "cell_type": "markdown",
   "id": "db3dfc95",
   "metadata": {},
   "source": [
    "# Guide"
   ]
  },
  {
   "cell_type": "markdown",
   "id": "89cd36e1",
   "metadata": {},
   "source": [
    "##### . Choose Kernel `-->` Restart & Run All"
   ]
  },
  {
   "cell_type": "markdown",
   "id": "17a7ed4b",
   "metadata": {},
   "source": [
    "# Libraries"
   ]
  },
  {
   "cell_type": "code",
   "execution_count": 1,
   "id": "d5d0495d",
   "metadata": {},
   "outputs": [
    {
     "name": "stdout",
     "output_type": "stream",
     "text": [
      "Requirement already satisfied: fpgrowth_py in /home/dangkieu/miniconda3/envs/min_ds-env/lib/python3.8/site-packages (1.0.0)\r\n"
     ]
    }
   ],
   "source": [
    "!pip install fpgrowth_py"
   ]
  },
  {
   "cell_type": "code",
   "execution_count": 2,
   "id": "12c5cc46",
   "metadata": {},
   "outputs": [],
   "source": [
    "import numpy as np\n",
    "import pandas as pd\n",
    "import matplotlib.pyplot as plt\n",
    "from fpgrowth_py import fpgrowth"
   ]
  },
  {
   "cell_type": "markdown",
   "id": "ee79d951",
   "metadata": {},
   "source": [
    "# Exploring Data"
   ]
  },
  {
   "cell_type": "code",
   "execution_count": 3,
   "id": "c0672f8f",
   "metadata": {
    "scrolled": false
   },
   "outputs": [],
   "source": [
    "# read data\n",
    "df = pd.read_csv('churn.txt', sep=',')"
   ]
  },
  {
   "cell_type": "code",
   "execution_count": 4,
   "id": "98187a40",
   "metadata": {},
   "outputs": [
    {
     "data": {
      "text/plain": [
       "(3333, 21)"
      ]
     },
     "execution_count": 4,
     "metadata": {},
     "output_type": "execute_result"
    }
   ],
   "source": [
    "df.shape"
   ]
  },
  {
   "cell_type": "code",
   "execution_count": 5,
   "id": "f42f0f85",
   "metadata": {
    "scrolled": false
   },
   "outputs": [
    {
     "data": {
      "text/plain": [
       "State             False\n",
       "Account Length    False\n",
       "Area Code         False\n",
       "Phone             False\n",
       "Int'l Plan        False\n",
       "VMail Plan        False\n",
       "VMail Message     False\n",
       "Day Mins          False\n",
       "Day Calls         False\n",
       "Day Charge        False\n",
       "Eve Mins          False\n",
       "Eve Calls         False\n",
       "Eve Charge        False\n",
       "Night Mins        False\n",
       "Night Calls       False\n",
       "Night Charge      False\n",
       "Intl Mins         False\n",
       "Intl Calls        False\n",
       "Intl Charge       False\n",
       "CustServ Calls    False\n",
       "Churn?            False\n",
       "dtype: bool"
      ]
     },
     "execution_count": 5,
     "metadata": {},
     "output_type": "execute_result"
    }
   ],
   "source": [
    "# Check for any mising value\n",
    "df.isna().any()"
   ]
  },
  {
   "cell_type": "code",
   "execution_count": 6,
   "id": "61daac61",
   "metadata": {
    "scrolled": false
   },
   "outputs": [
    {
     "name": "stdout",
     "output_type": "stream",
     "text": [
      "<class 'pandas.core.frame.DataFrame'>\n",
      "RangeIndex: 3333 entries, 0 to 3332\n",
      "Data columns (total 21 columns):\n",
      " #   Column          Non-Null Count  Dtype  \n",
      "---  ------          --------------  -----  \n",
      " 0   State           3333 non-null   object \n",
      " 1   Account Length  3333 non-null   int64  \n",
      " 2   Area Code       3333 non-null   int64  \n",
      " 3   Phone           3333 non-null   object \n",
      " 4   Int'l Plan      3333 non-null   object \n",
      " 5   VMail Plan      3333 non-null   object \n",
      " 6   VMail Message   3333 non-null   int64  \n",
      " 7   Day Mins        3333 non-null   float64\n",
      " 8   Day Calls       3333 non-null   int64  \n",
      " 9   Day Charge      3333 non-null   float64\n",
      " 10  Eve Mins        3333 non-null   float64\n",
      " 11  Eve Calls       3333 non-null   int64  \n",
      " 12  Eve Charge      3333 non-null   float64\n",
      " 13  Night Mins      3333 non-null   float64\n",
      " 14  Night Calls     3333 non-null   int64  \n",
      " 15  Night Charge    3333 non-null   float64\n",
      " 16  Intl Mins       3333 non-null   float64\n",
      " 17  Intl Calls      3333 non-null   int64  \n",
      " 18  Intl Charge     3333 non-null   float64\n",
      " 19  CustServ Calls  3333 non-null   int64  \n",
      " 20  Churn?          3333 non-null   object \n",
      "dtypes: float64(8), int64(8), object(5)\n",
      "memory usage: 546.9+ KB\n"
     ]
    }
   ],
   "source": [
    "# Check for columns data type\n",
    "df.info()"
   ]
  },
  {
   "cell_type": "code",
   "execution_count": 7,
   "id": "9daa94b3",
   "metadata": {},
   "outputs": [
    {
     "data": {
      "text/html": [
       "<div>\n",
       "<style scoped>\n",
       "    .dataframe tbody tr th:only-of-type {\n",
       "        vertical-align: middle;\n",
       "    }\n",
       "\n",
       "    .dataframe tbody tr th {\n",
       "        vertical-align: top;\n",
       "    }\n",
       "\n",
       "    .dataframe thead th {\n",
       "        text-align: right;\n",
       "    }\n",
       "</style>\n",
       "<table border=\"1\" class=\"dataframe\">\n",
       "  <thead>\n",
       "    <tr style=\"text-align: right;\">\n",
       "      <th></th>\n",
       "      <th>Account Length</th>\n",
       "      <th>Area Code</th>\n",
       "      <th>VMail Message</th>\n",
       "      <th>Day Mins</th>\n",
       "      <th>Day Calls</th>\n",
       "      <th>Day Charge</th>\n",
       "      <th>Eve Mins</th>\n",
       "      <th>Eve Calls</th>\n",
       "      <th>Eve Charge</th>\n",
       "      <th>Night Mins</th>\n",
       "      <th>Night Calls</th>\n",
       "      <th>Night Charge</th>\n",
       "      <th>Intl Mins</th>\n",
       "      <th>Intl Calls</th>\n",
       "      <th>Intl Charge</th>\n",
       "      <th>CustServ Calls</th>\n",
       "    </tr>\n",
       "  </thead>\n",
       "  <tbody>\n",
       "    <tr>\n",
       "      <th>count</th>\n",
       "      <td>3333.000000</td>\n",
       "      <td>3333.000000</td>\n",
       "      <td>3333.000000</td>\n",
       "      <td>3333.000000</td>\n",
       "      <td>3333.000000</td>\n",
       "      <td>3333.000000</td>\n",
       "      <td>3333.000000</td>\n",
       "      <td>3333.000000</td>\n",
       "      <td>3333.000000</td>\n",
       "      <td>3333.000000</td>\n",
       "      <td>3333.000000</td>\n",
       "      <td>3333.000000</td>\n",
       "      <td>3333.000000</td>\n",
       "      <td>3333.000000</td>\n",
       "      <td>3333.000000</td>\n",
       "      <td>3333.000000</td>\n",
       "    </tr>\n",
       "    <tr>\n",
       "      <th>mean</th>\n",
       "      <td>101.064806</td>\n",
       "      <td>437.182418</td>\n",
       "      <td>8.099010</td>\n",
       "      <td>179.775098</td>\n",
       "      <td>100.435644</td>\n",
       "      <td>30.562307</td>\n",
       "      <td>200.980348</td>\n",
       "      <td>100.114311</td>\n",
       "      <td>17.083540</td>\n",
       "      <td>200.872037</td>\n",
       "      <td>100.107711</td>\n",
       "      <td>9.039325</td>\n",
       "      <td>10.237294</td>\n",
       "      <td>4.479448</td>\n",
       "      <td>2.764581</td>\n",
       "      <td>1.562856</td>\n",
       "    </tr>\n",
       "    <tr>\n",
       "      <th>std</th>\n",
       "      <td>39.822106</td>\n",
       "      <td>42.371290</td>\n",
       "      <td>13.688365</td>\n",
       "      <td>54.467389</td>\n",
       "      <td>20.069084</td>\n",
       "      <td>9.259435</td>\n",
       "      <td>50.713844</td>\n",
       "      <td>19.922625</td>\n",
       "      <td>4.310668</td>\n",
       "      <td>50.573847</td>\n",
       "      <td>19.568609</td>\n",
       "      <td>2.275873</td>\n",
       "      <td>2.791840</td>\n",
       "      <td>2.461214</td>\n",
       "      <td>0.753773</td>\n",
       "      <td>1.315491</td>\n",
       "    </tr>\n",
       "    <tr>\n",
       "      <th>min</th>\n",
       "      <td>1.000000</td>\n",
       "      <td>408.000000</td>\n",
       "      <td>0.000000</td>\n",
       "      <td>0.000000</td>\n",
       "      <td>0.000000</td>\n",
       "      <td>0.000000</td>\n",
       "      <td>0.000000</td>\n",
       "      <td>0.000000</td>\n",
       "      <td>0.000000</td>\n",
       "      <td>23.200000</td>\n",
       "      <td>33.000000</td>\n",
       "      <td>1.040000</td>\n",
       "      <td>0.000000</td>\n",
       "      <td>0.000000</td>\n",
       "      <td>0.000000</td>\n",
       "      <td>0.000000</td>\n",
       "    </tr>\n",
       "    <tr>\n",
       "      <th>25%</th>\n",
       "      <td>74.000000</td>\n",
       "      <td>408.000000</td>\n",
       "      <td>0.000000</td>\n",
       "      <td>143.700000</td>\n",
       "      <td>87.000000</td>\n",
       "      <td>24.430000</td>\n",
       "      <td>166.600000</td>\n",
       "      <td>87.000000</td>\n",
       "      <td>14.160000</td>\n",
       "      <td>167.000000</td>\n",
       "      <td>87.000000</td>\n",
       "      <td>7.520000</td>\n",
       "      <td>8.500000</td>\n",
       "      <td>3.000000</td>\n",
       "      <td>2.300000</td>\n",
       "      <td>1.000000</td>\n",
       "    </tr>\n",
       "    <tr>\n",
       "      <th>50%</th>\n",
       "      <td>101.000000</td>\n",
       "      <td>415.000000</td>\n",
       "      <td>0.000000</td>\n",
       "      <td>179.400000</td>\n",
       "      <td>101.000000</td>\n",
       "      <td>30.500000</td>\n",
       "      <td>201.400000</td>\n",
       "      <td>100.000000</td>\n",
       "      <td>17.120000</td>\n",
       "      <td>201.200000</td>\n",
       "      <td>100.000000</td>\n",
       "      <td>9.050000</td>\n",
       "      <td>10.300000</td>\n",
       "      <td>4.000000</td>\n",
       "      <td>2.780000</td>\n",
       "      <td>1.000000</td>\n",
       "    </tr>\n",
       "    <tr>\n",
       "      <th>75%</th>\n",
       "      <td>127.000000</td>\n",
       "      <td>510.000000</td>\n",
       "      <td>20.000000</td>\n",
       "      <td>216.400000</td>\n",
       "      <td>114.000000</td>\n",
       "      <td>36.790000</td>\n",
       "      <td>235.300000</td>\n",
       "      <td>114.000000</td>\n",
       "      <td>20.000000</td>\n",
       "      <td>235.300000</td>\n",
       "      <td>113.000000</td>\n",
       "      <td>10.590000</td>\n",
       "      <td>12.100000</td>\n",
       "      <td>6.000000</td>\n",
       "      <td>3.270000</td>\n",
       "      <td>2.000000</td>\n",
       "    </tr>\n",
       "    <tr>\n",
       "      <th>max</th>\n",
       "      <td>243.000000</td>\n",
       "      <td>510.000000</td>\n",
       "      <td>51.000000</td>\n",
       "      <td>350.800000</td>\n",
       "      <td>165.000000</td>\n",
       "      <td>59.640000</td>\n",
       "      <td>363.700000</td>\n",
       "      <td>170.000000</td>\n",
       "      <td>30.910000</td>\n",
       "      <td>395.000000</td>\n",
       "      <td>175.000000</td>\n",
       "      <td>17.770000</td>\n",
       "      <td>20.000000</td>\n",
       "      <td>20.000000</td>\n",
       "      <td>5.400000</td>\n",
       "      <td>9.000000</td>\n",
       "    </tr>\n",
       "  </tbody>\n",
       "</table>\n",
       "</div>"
      ],
      "text/plain": [
       "       Account Length    Area Code  VMail Message     Day Mins    Day Calls  \\\n",
       "count     3333.000000  3333.000000    3333.000000  3333.000000  3333.000000   \n",
       "mean       101.064806   437.182418       8.099010   179.775098   100.435644   \n",
       "std         39.822106    42.371290      13.688365    54.467389    20.069084   \n",
       "min          1.000000   408.000000       0.000000     0.000000     0.000000   \n",
       "25%         74.000000   408.000000       0.000000   143.700000    87.000000   \n",
       "50%        101.000000   415.000000       0.000000   179.400000   101.000000   \n",
       "75%        127.000000   510.000000      20.000000   216.400000   114.000000   \n",
       "max        243.000000   510.000000      51.000000   350.800000   165.000000   \n",
       "\n",
       "        Day Charge     Eve Mins    Eve Calls   Eve Charge   Night Mins  \\\n",
       "count  3333.000000  3333.000000  3333.000000  3333.000000  3333.000000   \n",
       "mean     30.562307   200.980348   100.114311    17.083540   200.872037   \n",
       "std       9.259435    50.713844    19.922625     4.310668    50.573847   \n",
       "min       0.000000     0.000000     0.000000     0.000000    23.200000   \n",
       "25%      24.430000   166.600000    87.000000    14.160000   167.000000   \n",
       "50%      30.500000   201.400000   100.000000    17.120000   201.200000   \n",
       "75%      36.790000   235.300000   114.000000    20.000000   235.300000   \n",
       "max      59.640000   363.700000   170.000000    30.910000   395.000000   \n",
       "\n",
       "       Night Calls  Night Charge    Intl Mins   Intl Calls  Intl Charge  \\\n",
       "count  3333.000000   3333.000000  3333.000000  3333.000000  3333.000000   \n",
       "mean    100.107711      9.039325    10.237294     4.479448     2.764581   \n",
       "std      19.568609      2.275873     2.791840     2.461214     0.753773   \n",
       "min      33.000000      1.040000     0.000000     0.000000     0.000000   \n",
       "25%      87.000000      7.520000     8.500000     3.000000     2.300000   \n",
       "50%     100.000000      9.050000    10.300000     4.000000     2.780000   \n",
       "75%     113.000000     10.590000    12.100000     6.000000     3.270000   \n",
       "max     175.000000     17.770000    20.000000    20.000000     5.400000   \n",
       "\n",
       "       CustServ Calls  \n",
       "count     3333.000000  \n",
       "mean         1.562856  \n",
       "std          1.315491  \n",
       "min          0.000000  \n",
       "25%          1.000000  \n",
       "50%          1.000000  \n",
       "75%          2.000000  \n",
       "max          9.000000  "
      ]
     },
     "execution_count": 7,
     "metadata": {},
     "output_type": "execute_result"
    }
   ],
   "source": [
    "# Check for distribution of data\n",
    "df.describe()"
   ]
  },
  {
   "cell_type": "markdown",
   "id": "127ebb1a",
   "metadata": {},
   "source": [
    "# Preprocessing Data"
   ]
  },
  {
   "cell_type": "code",
   "execution_count": 8,
   "id": "8d4eaebb",
   "metadata": {},
   "outputs": [],
   "source": [
    "# Drop columns: 'Day Charge', 'Eve Charge', 'Night Charge', 'Intl Charge'\n",
    "df = df.drop(['Day Charge', 'Eve Charge', 'Night Charge', 'Intl Charge', 'State', 'Area Code', 'Phone'], axis=1)"
   ]
  },
  {
   "cell_type": "code",
   "execution_count": 9,
   "id": "1ceaeb72",
   "metadata": {
    "scrolled": false
   },
   "outputs": [
    {
     "data": {
      "text/html": [
       "<div>\n",
       "<style scoped>\n",
       "    .dataframe tbody tr th:only-of-type {\n",
       "        vertical-align: middle;\n",
       "    }\n",
       "\n",
       "    .dataframe tbody tr th {\n",
       "        vertical-align: top;\n",
       "    }\n",
       "\n",
       "    .dataframe thead th {\n",
       "        text-align: right;\n",
       "    }\n",
       "</style>\n",
       "<table border=\"1\" class=\"dataframe\">\n",
       "  <thead>\n",
       "    <tr style=\"text-align: right;\">\n",
       "      <th></th>\n",
       "      <th>Account Length</th>\n",
       "      <th>Int'l Plan</th>\n",
       "      <th>VMail Plan</th>\n",
       "      <th>VMail Message</th>\n",
       "      <th>Day Mins</th>\n",
       "      <th>Day Calls</th>\n",
       "      <th>Eve Mins</th>\n",
       "      <th>Eve Calls</th>\n",
       "      <th>Night Mins</th>\n",
       "      <th>Night Calls</th>\n",
       "      <th>Intl Mins</th>\n",
       "      <th>Intl Calls</th>\n",
       "      <th>CustServ Calls</th>\n",
       "      <th>Churn?</th>\n",
       "    </tr>\n",
       "  </thead>\n",
       "  <tbody>\n",
       "    <tr>\n",
       "      <th>0</th>\n",
       "      <td>128</td>\n",
       "      <td>no</td>\n",
       "      <td>yes</td>\n",
       "      <td>25</td>\n",
       "      <td>265.1</td>\n",
       "      <td>110</td>\n",
       "      <td>197.4</td>\n",
       "      <td>99</td>\n",
       "      <td>244.7</td>\n",
       "      <td>91</td>\n",
       "      <td>10.0</td>\n",
       "      <td>3</td>\n",
       "      <td>1</td>\n",
       "      <td>False.</td>\n",
       "    </tr>\n",
       "    <tr>\n",
       "      <th>1</th>\n",
       "      <td>107</td>\n",
       "      <td>no</td>\n",
       "      <td>yes</td>\n",
       "      <td>26</td>\n",
       "      <td>161.6</td>\n",
       "      <td>123</td>\n",
       "      <td>195.5</td>\n",
       "      <td>103</td>\n",
       "      <td>254.4</td>\n",
       "      <td>103</td>\n",
       "      <td>13.7</td>\n",
       "      <td>3</td>\n",
       "      <td>1</td>\n",
       "      <td>False.</td>\n",
       "    </tr>\n",
       "    <tr>\n",
       "      <th>2</th>\n",
       "      <td>137</td>\n",
       "      <td>no</td>\n",
       "      <td>no</td>\n",
       "      <td>0</td>\n",
       "      <td>243.4</td>\n",
       "      <td>114</td>\n",
       "      <td>121.2</td>\n",
       "      <td>110</td>\n",
       "      <td>162.6</td>\n",
       "      <td>104</td>\n",
       "      <td>12.2</td>\n",
       "      <td>5</td>\n",
       "      <td>0</td>\n",
       "      <td>False.</td>\n",
       "    </tr>\n",
       "    <tr>\n",
       "      <th>3</th>\n",
       "      <td>84</td>\n",
       "      <td>yes</td>\n",
       "      <td>no</td>\n",
       "      <td>0</td>\n",
       "      <td>299.4</td>\n",
       "      <td>71</td>\n",
       "      <td>61.9</td>\n",
       "      <td>88</td>\n",
       "      <td>196.9</td>\n",
       "      <td>89</td>\n",
       "      <td>6.6</td>\n",
       "      <td>7</td>\n",
       "      <td>2</td>\n",
       "      <td>False.</td>\n",
       "    </tr>\n",
       "    <tr>\n",
       "      <th>4</th>\n",
       "      <td>75</td>\n",
       "      <td>yes</td>\n",
       "      <td>no</td>\n",
       "      <td>0</td>\n",
       "      <td>166.7</td>\n",
       "      <td>113</td>\n",
       "      <td>148.3</td>\n",
       "      <td>122</td>\n",
       "      <td>186.9</td>\n",
       "      <td>121</td>\n",
       "      <td>10.1</td>\n",
       "      <td>3</td>\n",
       "      <td>3</td>\n",
       "      <td>False.</td>\n",
       "    </tr>\n",
       "    <tr>\n",
       "      <th>...</th>\n",
       "      <td>...</td>\n",
       "      <td>...</td>\n",
       "      <td>...</td>\n",
       "      <td>...</td>\n",
       "      <td>...</td>\n",
       "      <td>...</td>\n",
       "      <td>...</td>\n",
       "      <td>...</td>\n",
       "      <td>...</td>\n",
       "      <td>...</td>\n",
       "      <td>...</td>\n",
       "      <td>...</td>\n",
       "      <td>...</td>\n",
       "      <td>...</td>\n",
       "    </tr>\n",
       "    <tr>\n",
       "      <th>3328</th>\n",
       "      <td>192</td>\n",
       "      <td>no</td>\n",
       "      <td>yes</td>\n",
       "      <td>36</td>\n",
       "      <td>156.2</td>\n",
       "      <td>77</td>\n",
       "      <td>215.5</td>\n",
       "      <td>126</td>\n",
       "      <td>279.1</td>\n",
       "      <td>83</td>\n",
       "      <td>9.9</td>\n",
       "      <td>6</td>\n",
       "      <td>2</td>\n",
       "      <td>False.</td>\n",
       "    </tr>\n",
       "    <tr>\n",
       "      <th>3329</th>\n",
       "      <td>68</td>\n",
       "      <td>no</td>\n",
       "      <td>no</td>\n",
       "      <td>0</td>\n",
       "      <td>231.1</td>\n",
       "      <td>57</td>\n",
       "      <td>153.4</td>\n",
       "      <td>55</td>\n",
       "      <td>191.3</td>\n",
       "      <td>123</td>\n",
       "      <td>9.6</td>\n",
       "      <td>4</td>\n",
       "      <td>3</td>\n",
       "      <td>False.</td>\n",
       "    </tr>\n",
       "    <tr>\n",
       "      <th>3330</th>\n",
       "      <td>28</td>\n",
       "      <td>no</td>\n",
       "      <td>no</td>\n",
       "      <td>0</td>\n",
       "      <td>180.8</td>\n",
       "      <td>109</td>\n",
       "      <td>288.8</td>\n",
       "      <td>58</td>\n",
       "      <td>191.9</td>\n",
       "      <td>91</td>\n",
       "      <td>14.1</td>\n",
       "      <td>6</td>\n",
       "      <td>2</td>\n",
       "      <td>False.</td>\n",
       "    </tr>\n",
       "    <tr>\n",
       "      <th>3331</th>\n",
       "      <td>184</td>\n",
       "      <td>yes</td>\n",
       "      <td>no</td>\n",
       "      <td>0</td>\n",
       "      <td>213.8</td>\n",
       "      <td>105</td>\n",
       "      <td>159.6</td>\n",
       "      <td>84</td>\n",
       "      <td>139.2</td>\n",
       "      <td>137</td>\n",
       "      <td>5.0</td>\n",
       "      <td>10</td>\n",
       "      <td>2</td>\n",
       "      <td>False.</td>\n",
       "    </tr>\n",
       "    <tr>\n",
       "      <th>3332</th>\n",
       "      <td>74</td>\n",
       "      <td>no</td>\n",
       "      <td>yes</td>\n",
       "      <td>25</td>\n",
       "      <td>234.4</td>\n",
       "      <td>113</td>\n",
       "      <td>265.9</td>\n",
       "      <td>82</td>\n",
       "      <td>241.4</td>\n",
       "      <td>77</td>\n",
       "      <td>13.7</td>\n",
       "      <td>4</td>\n",
       "      <td>0</td>\n",
       "      <td>False.</td>\n",
       "    </tr>\n",
       "  </tbody>\n",
       "</table>\n",
       "<p>3333 rows × 14 columns</p>\n",
       "</div>"
      ],
      "text/plain": [
       "      Account Length Int'l Plan VMail Plan  VMail Message  Day Mins  \\\n",
       "0                128         no        yes             25     265.1   \n",
       "1                107         no        yes             26     161.6   \n",
       "2                137         no         no              0     243.4   \n",
       "3                 84        yes         no              0     299.4   \n",
       "4                 75        yes         no              0     166.7   \n",
       "...              ...        ...        ...            ...       ...   \n",
       "3328             192         no        yes             36     156.2   \n",
       "3329              68         no         no              0     231.1   \n",
       "3330              28         no         no              0     180.8   \n",
       "3331             184        yes         no              0     213.8   \n",
       "3332              74         no        yes             25     234.4   \n",
       "\n",
       "      Day Calls  Eve Mins  Eve Calls  Night Mins  Night Calls  Intl Mins  \\\n",
       "0           110     197.4         99       244.7           91       10.0   \n",
       "1           123     195.5        103       254.4          103       13.7   \n",
       "2           114     121.2        110       162.6          104       12.2   \n",
       "3            71      61.9         88       196.9           89        6.6   \n",
       "4           113     148.3        122       186.9          121       10.1   \n",
       "...         ...       ...        ...         ...          ...        ...   \n",
       "3328         77     215.5        126       279.1           83        9.9   \n",
       "3329         57     153.4         55       191.3          123        9.6   \n",
       "3330        109     288.8         58       191.9           91       14.1   \n",
       "3331        105     159.6         84       139.2          137        5.0   \n",
       "3332        113     265.9         82       241.4           77       13.7   \n",
       "\n",
       "      Intl Calls  CustServ Calls  Churn?  \n",
       "0              3               1  False.  \n",
       "1              3               1  False.  \n",
       "2              5               0  False.  \n",
       "3              7               2  False.  \n",
       "4              3               3  False.  \n",
       "...          ...             ...     ...  \n",
       "3328           6               2  False.  \n",
       "3329           4               3  False.  \n",
       "3330           6               2  False.  \n",
       "3331          10               2  False.  \n",
       "3332           4               0  False.  \n",
       "\n",
       "[3333 rows x 14 columns]"
      ]
     },
     "execution_count": 9,
     "metadata": {},
     "output_type": "execute_result"
    }
   ],
   "source": [
    "df"
   ]
  },
  {
   "cell_type": "markdown",
   "id": "d8d03579",
   "metadata": {},
   "source": [
    "# FP - Growth"
   ]
  },
  {
   "cell_type": "markdown",
   "id": "08fff38c",
   "metadata": {},
   "source": [
    "##### a)\tThời gian active của account (account length) có ảnh hưởng đến quyết định rời bỏ (churn) của khách hàng hay không?"
   ]
  },
  {
   "cell_type": "code",
   "execution_count": 10,
   "id": "08b32b87",
   "metadata": {
    "scrolled": true
   },
   "outputs": [
    {
     "data": {
      "text/plain": [
       "count    3333.000000\n",
       "mean      101.064806\n",
       "std        39.822106\n",
       "min         1.000000\n",
       "25%        74.000000\n",
       "50%       101.000000\n",
       "75%       127.000000\n",
       "max       243.000000\n",
       "Name: Account Length, dtype: float64"
      ]
     },
     "execution_count": 10,
     "metadata": {},
     "output_type": "execute_result"
    }
   ],
   "source": [
    "x = df['Account Length'].describe()\n",
    "x # Store to x for later using (below cell)"
   ]
  },
  {
   "cell_type": "code",
   "execution_count": 11,
   "id": "a727d33e",
   "metadata": {
    "scrolled": true
   },
   "outputs": [],
   "source": [
    "# Get quartile for binning\n",
    "mn, _25, _50, _75, mx = x[['min', '25%', '50%', '75%', 'max']]\n",
    "\n",
    "# Prepare data for binning\n",
    "temp = df[['Account Length', 'Churn?']]"
   ]
  },
  {
   "cell_type": "code",
   "execution_count": 12,
   "id": "021458b3",
   "metadata": {},
   "outputs": [],
   "source": [
    "# Binning to 4 categories prepresent for Q1, Q2, Q3, Q4\n",
    "very_low = temp.loc[(temp['Account Length'] < _25) & (temp['Account Length'] >= mn)]\n",
    "low = temp.loc[(temp['Account Length'] < _50) & (temp['Account Length'] >= _25)]\n",
    "high = temp.loc[(temp['Account Length'] < _75) & (temp['Account Length'] >= _50)]\n",
    "very_high = temp.loc[(temp['Account Length'] <= mx) & (temp['Account Length'] >= _75)]"
   ]
  },
  {
   "cell_type": "code",
   "execution_count": 13,
   "id": "e3258fd1",
   "metadata": {
    "scrolled": false
   },
   "outputs": [
    {
     "name": "stderr",
     "output_type": "stream",
     "text": [
      "/home/dangkieu/miniconda3/envs/min_ds-env/lib/python3.8/site-packages/pandas/core/indexing.py:1720: SettingWithCopyWarning: \n",
      "A value is trying to be set on a copy of a slice from a DataFrame.\n",
      "Try using .loc[row_indexer,col_indexer] = value instead\n",
      "\n",
      "See the caveats in the documentation: https://pandas.pydata.org/pandas-docs/stable/user_guide/indexing.html#returning-a-view-versus-a-copy\n",
      "  self._setitem_single_column(loc, value, pi)\n"
     ]
    }
   ],
   "source": [
    "# Replace value of account length by class name\n",
    "very_low.loc[:, ['label']] = 'very_low'\n",
    "low.loc[:, ['label']] = 'low'\n",
    "high.loc[:, ['label']] = 'high'\n",
    "very_high.loc[:, ['label']] = 'very_high'"
   ]
  },
  {
   "cell_type": "code",
   "execution_count": 14,
   "id": "68d0cb53",
   "metadata": {},
   "outputs": [],
   "source": [
    "# columns used\n",
    "cols = ['label', 'Churn?']"
   ]
  },
  {
   "cell_type": "markdown",
   "id": "ce76b513",
   "metadata": {},
   "source": [
    "##### `Run Model very_low`"
   ]
  },
  {
   "cell_type": "code",
   "execution_count": 15,
   "id": "f93b1451",
   "metadata": {
    "scrolled": false
   },
   "outputs": [
    {
     "data": {
      "text/plain": [
       "[[{'very_low'}, {'False.'}, 0.8690909090909091],\n",
       " [{'False.'}, {'very_low'}, 1.0]]"
      ]
     },
     "execution_count": 15,
     "metadata": {},
     "output_type": "execute_result"
    }
   ],
   "source": [
    "itemSetList = very_low[cols].to_numpy()\n",
    "freqItemSet, rules = fpgrowth(itemSetList, minSupRatio=0.5, minConf=0.5)\n",
    "rules\n",
    "# itemSetList"
   ]
  },
  {
   "cell_type": "markdown",
   "id": "83a75576",
   "metadata": {},
   "source": [
    "##### `Run Model low`"
   ]
  },
  {
   "cell_type": "code",
   "execution_count": 16,
   "id": "485d6d85",
   "metadata": {},
   "outputs": [
    {
     "data": {
      "text/plain": [
       "[[{'low'}, {'False.'}, 0.8498212157330155], [{'False.'}, {'low'}, 1.0]]"
      ]
     },
     "execution_count": 16,
     "metadata": {},
     "output_type": "execute_result"
    }
   ],
   "source": [
    "itemSetList = low[cols].to_numpy()\n",
    "freqItemSet, rules = fpgrowth(itemSetList, minSupRatio=0.5, minConf=0.5)\n",
    "rules\n",
    "# itemSetList"
   ]
  },
  {
   "cell_type": "markdown",
   "id": "a5899bad",
   "metadata": {},
   "source": [
    "##### `Run Model high`"
   ]
  },
  {
   "cell_type": "code",
   "execution_count": 17,
   "id": "495295f3",
   "metadata": {},
   "outputs": [
    {
     "data": {
      "text/plain": [
       "[[{'high'}, {'False.'}, 0.844059405940594], [{'False.'}, {'high'}, 1.0]]"
      ]
     },
     "execution_count": 17,
     "metadata": {},
     "output_type": "execute_result"
    }
   ],
   "source": [
    "itemSetList = high[cols].to_numpy()\n",
    "freqItemSet, rules = fpgrowth(itemSetList, minSupRatio=0.5, minConf=0.5)\n",
    "rules\n",
    "# itemSetList"
   ]
  },
  {
   "cell_type": "markdown",
   "id": "bbcbfeb3",
   "metadata": {},
   "source": [
    "##### `Run Model very_high`"
   ]
  },
  {
   "cell_type": "code",
   "execution_count": 18,
   "id": "f3be2e9d",
   "metadata": {
    "scrolled": true
   },
   "outputs": [
    {
     "data": {
      "text/plain": [
       "[[{'very_high'}, {'False.'}, 0.8571428571428571],\n",
       " [{'False.'}, {'very_high'}, 1.0]]"
      ]
     },
     "execution_count": 18,
     "metadata": {},
     "output_type": "execute_result"
    }
   ],
   "source": [
    "itemSetList = very_high[cols].to_numpy()\n",
    "freqItemSet, rules = fpgrowth(itemSetList, minSupRatio=0.5, minConf=0.5)\n",
    "rules\n",
    "# itemSetList"
   ]
  },
  {
   "cell_type": "code",
   "execution_count": 19,
   "id": "0409c584",
   "metadata": {},
   "outputs": [
    {
     "data": {
      "text/plain": [
       "False.    85.508551\n",
       "True.     14.491449\n",
       "Name: Churn?, dtype: float64"
      ]
     },
     "execution_count": 19,
     "metadata": {},
     "output_type": "execute_result"
    }
   ],
   "source": [
    "# Display ratio of each Churn value (This cell explained in the report)\n",
    "ratio = ((df['Churn?'].value_counts() / 3333) * 100)\n",
    "ratio"
   ]
  },
  {
   "cell_type": "code",
   "execution_count": 20,
   "id": "26ec987f",
   "metadata": {
    "scrolled": true
   },
   "outputs": [
    {
     "data": {
      "image/png": "[encoded data removed]",
      "text/plain": [
       "<Figure size 432x288 with 1 Axes>"
      ]
     },
     "metadata": {
      "needs_background": "light"
     },
     "output_type": "display_data"
    }
   ],
   "source": [
    "# Visualize above value (This cell explained in the report)\n",
    "plt.bar(['False', 'True'], [100, 100], width=0.4, color=['yellow', 'yellow'], edgecolor = 'black')\n",
    "plt.bar(['False', 'True'], ratio, width=0.4, color=['purple', 'pink'], edgecolor = 'black')\n",
    "plt.rcParams[\"figure.figsize\"] = (3,5)\n",
    "for i in range(len(ratio)):\n",
    "    plt.text(i,ratio[i]+3, str(round(ratio[i], 1)) + '%', horizontalalignment='center', verticalalignment='center')\n",
    "plt.title('Ratio of Do Not Churn or Churn');"
   ]
  },
  {
   "cell_type": "code",
   "execution_count": 21,
   "id": "00376b19",
   "metadata": {},
   "outputs": [
    {
     "data": {
      "text/plain": [
       "[]"
      ]
     },
     "execution_count": 21,
     "metadata": {},
     "output_type": "execute_result"
    }
   ],
   "source": [
    "# Run on full data minsup = 0.5\n",
    "itemSetList = pd.concat([high,very_high,low,very_low])[cols].to_numpy()\n",
    "freqItemSet, rules = fpgrowth(itemSetList, minSupRatio=0.5, minConf=0.5)\n",
    "rules"
   ]
  },
  {
   "cell_type": "code",
   "execution_count": 22,
   "id": "57f97991",
   "metadata": {
    "scrolled": true
   },
   "outputs": [
    {
     "data": {
      "text/plain": [
       "[[{'high'}, {'False.'}, 0.844059405940594],\n",
       " [{'very_low'}, {'False.'}, 0.8690909090909091],\n",
       " [{'low'}, {'False.'}, 0.8498212157330155],\n",
       " [{'very_high'}, {'False.'}, 0.8571428571428571]]"
      ]
     },
     "execution_count": 22,
     "metadata": {},
     "output_type": "execute_result"
    }
   ],
   "source": [
    "# Run on full data minsup = 0.2\n",
    "itemSetList = pd.concat([high,very_high,low,very_low])[cols].to_numpy()\n",
    "freqItemSet, rules = fpgrowth(itemSetList, minSupRatio=0.2, minConf=0.5)\n",
    "rules"
   ]
  },
  {
   "cell_type": "markdown",
   "id": "6679fd22",
   "metadata": {},
   "source": [
    "######  b)\tLiệu việc chọn sử dụng gói Voice Mail có ảnh hưởng đến quyết định chọn sử dụng gói International không và ngược lại?"
   ]
  },
  {
   "cell_type": "code",
   "execution_count": 23,
   "id": "35804e00",
   "metadata": {
    "scrolled": true
   },
   "outputs": [
    {
     "name": "stderr",
     "output_type": "stream",
     "text": [
      "/home/dangkieu/miniconda3/envs/min_ds-env/lib/python3.8/site-packages/pandas/core/indexing.py:692: SettingWithCopyWarning: \n",
      "A value is trying to be set on a copy of a slice from a DataFrame\n",
      "\n",
      "See the caveats in the documentation: https://pandas.pydata.org/pandas-docs/stable/user_guide/indexing.html#returning-a-view-versus-a-copy\n",
      "  iloc._setitem_with_indexer(indexer, value, self.name)\n"
     ]
    }
   ],
   "source": [
    "# Preprocess for ['VMail Plan', \"Int'l Plan\"] values\n",
    "k = df[['VMail Plan', \"Int'l Plan\"]]\n",
    "k[\"Int'l Plan\"].loc[:] = k[\"Int'l Plan\"].apply(lambda x: 'no I' if x == 'no' else 'yes I')\n",
    "k[\"VMail Plan\"].loc[:] = k[\"VMail Plan\"].apply(lambda x: 'no V' if x == 'no' else 'yes V')"
   ]
  },
  {
   "cell_type": "code",
   "execution_count": 24,
   "id": "400f0602",
   "metadata": {},
   "outputs": [
    {
     "data": {
      "text/plain": [
       "VMail Plan  Int'l Plan\n",
       "no V        no I          0.654065\n",
       "yes V       no I          0.249025\n",
       "no V        yes I         0.069307\n",
       "yes V       yes I         0.027603\n",
       "dtype: float64"
      ]
     },
     "metadata": {},
     "output_type": "display_data"
    }
   ],
   "source": [
    "# Display percent of each couple of variable (This cell explained in the report)\n",
    "ratio=k.iloc[:].value_counts()/3333\n",
    "display(ratio)"
   ]
  },
  {
   "cell_type": "code",
   "execution_count": 25,
   "id": "36dc8169",
   "metadata": {},
   "outputs": [
    {
     "data": {
      "image/png": "[encoded data removed]",
      "text/plain": [
       "<Figure size 216x360 with 1 Axes>"
      ]
     },
     "metadata": {
      "needs_background": "light"
     },
     "output_type": "display_data"
    }
   ],
   "source": [
    "# Visualize above value (This cell explained in the report)\n",
    "plt.bar(['0-0', '1-0', '0-1', '1-1'], [100., 100., 100., 100.], width=0.4, color=['yellow'], edgecolor = 'black')\n",
    "plt.bar(['0-0', '1-0', '0-1', '1-1'], ratio*100, width=0.4, color=['purple', 'pink', 'g', 'orange'], edgecolor = 'black')\n",
    "plt.rcParams[\"figure.figsize\"] = (7,5)\n",
    "for i in range(len(ratio)):\n",
    "    plt.text(i,ratio[i]*100+3, str(round(ratio[i]*100, 1)) + '%', horizontalalignment='center', verticalalignment='center')\n",
    "plt.title(\"Ratio of Each Couple VMail Plan and Int'l Plan\");"
   ]
  },
  {
   "cell_type": "code",
   "execution_count": 26,
   "id": "af97fdf0",
   "metadata": {},
   "outputs": [
    {
     "data": {
      "text/plain": [
       "[[{'no I'}, {'no V'}, 0.7242524916943521],\n",
       " [{'no V'}, {'no I'}, 0.904189133139776]]"
      ]
     },
     "execution_count": 26,
     "metadata": {},
     "output_type": "execute_result"
    }
   ],
   "source": [
    "# minsup = 0.5\n",
    "itemSetList = k.to_numpy()\n",
    "freqItemSet, rules = fpgrowth(itemSetList, minSupRatio=0.5, minConf=0.5)\n",
    "rules\n",
    "# freqItemSet"
   ]
  },
  {
   "cell_type": "code",
   "execution_count": 27,
   "id": "05bbecfa",
   "metadata": {
    "scrolled": true
   },
   "outputs": [
    {
     "data": {
      "text/plain": [
       "[[{'yes V'}, {'no I'}, 0.9002169197396963],\n",
       " [{'no I'}, {'no V'}, 0.7242524916943521],\n",
       " [{'no V'}, {'no I'}, 0.904189133139776]]"
      ]
     },
     "execution_count": 27,
     "metadata": {},
     "output_type": "execute_result"
    }
   ],
   "source": [
    "# minsup = 0.2\n",
    "itemSetList = k.to_numpy()\n",
    "freqItemSet, rules = fpgrowth(itemSetList, minSupRatio=0.2, minConf=0.5)\n",
    "rules\n",
    "# freqItemSet"
   ]
  },
  {
   "cell_type": "markdown",
   "id": "f8417e38",
   "metadata": {},
   "source": [
    "#####  c)\tTheo như file mô tả thì tác giả có nhấn mạnh về số lượng cuộc gọi customer trong ngày trên 3 thì tỉ lệ khách hàng rời đi sẽ rất cao. Vậy liệu rằng lượng khách hàng rời đi đó họ có sử dụng dịch vụ Voice Mail không? Bởi vì như chúng ta đã biết thì gói Voice Mail hiện đang là gói có tỉ lệ giữ chân khách hàng tốt nhất.\n"
   ]
  },
  {
   "cell_type": "code",
   "execution_count": 28,
   "id": "04fc0304",
   "metadata": {
    "scrolled": false
   },
   "outputs": [
    {
     "data": {
      "text/html": [
       "<div>\n",
       "<style scoped>\n",
       "    .dataframe tbody tr th:only-of-type {\n",
       "        vertical-align: middle;\n",
       "    }\n",
       "\n",
       "    .dataframe tbody tr th {\n",
       "        vertical-align: top;\n",
       "    }\n",
       "\n",
       "    .dataframe thead th {\n",
       "        text-align: right;\n",
       "    }\n",
       "</style>\n",
       "<table border=\"1\" class=\"dataframe\">\n",
       "  <thead>\n",
       "    <tr style=\"text-align: right;\">\n",
       "      <th></th>\n",
       "      <th>VMail Plan</th>\n",
       "      <th>CustServ Calls</th>\n",
       "      <th>label</th>\n",
       "    </tr>\n",
       "  </thead>\n",
       "  <tbody>\n",
       "    <tr>\n",
       "      <th>10</th>\n",
       "      <td>no</td>\n",
       "      <td>4</td>\n",
       "      <td>high_rate_of_churn</td>\n",
       "    </tr>\n",
       "    <tr>\n",
       "      <th>14</th>\n",
       "      <td>no</td>\n",
       "      <td>4</td>\n",
       "      <td>high_rate_of_churn</td>\n",
       "    </tr>\n",
       "    <tr>\n",
       "      <th>15</th>\n",
       "      <td>no</td>\n",
       "      <td>4</td>\n",
       "      <td>high_rate_of_churn</td>\n",
       "    </tr>\n",
       "    <tr>\n",
       "      <th>21</th>\n",
       "      <td>no</td>\n",
       "      <td>5</td>\n",
       "      <td>high_rate_of_churn</td>\n",
       "    </tr>\n",
       "    <tr>\n",
       "      <th>48</th>\n",
       "      <td>no</td>\n",
       "      <td>5</td>\n",
       "      <td>high_rate_of_churn</td>\n",
       "    </tr>\n",
       "    <tr>\n",
       "      <th>...</th>\n",
       "      <td>...</td>\n",
       "      <td>...</td>\n",
       "      <td>...</td>\n",
       "    </tr>\n",
       "    <tr>\n",
       "      <th>3307</th>\n",
       "      <td>no</td>\n",
       "      <td>4</td>\n",
       "      <td>high_rate_of_churn</td>\n",
       "    </tr>\n",
       "    <tr>\n",
       "      <th>3309</th>\n",
       "      <td>no</td>\n",
       "      <td>4</td>\n",
       "      <td>high_rate_of_churn</td>\n",
       "    </tr>\n",
       "    <tr>\n",
       "      <th>3320</th>\n",
       "      <td>no</td>\n",
       "      <td>4</td>\n",
       "      <td>high_rate_of_churn</td>\n",
       "    </tr>\n",
       "    <tr>\n",
       "      <th>3322</th>\n",
       "      <td>no</td>\n",
       "      <td>4</td>\n",
       "      <td>high_rate_of_churn</td>\n",
       "    </tr>\n",
       "    <tr>\n",
       "      <th>3323</th>\n",
       "      <td>no</td>\n",
       "      <td>5</td>\n",
       "      <td>high_rate_of_churn</td>\n",
       "    </tr>\n",
       "  </tbody>\n",
       "</table>\n",
       "<p>267 rows × 3 columns</p>\n",
       "</div>"
      ],
      "text/plain": [
       "     VMail Plan  CustServ Calls               label\n",
       "10           no               4  high_rate_of_churn\n",
       "14           no               4  high_rate_of_churn\n",
       "15           no               4  high_rate_of_churn\n",
       "21           no               5  high_rate_of_churn\n",
       "48           no               5  high_rate_of_churn\n",
       "...         ...             ...                 ...\n",
       "3307         no               4  high_rate_of_churn\n",
       "3309         no               4  high_rate_of_churn\n",
       "3320         no               4  high_rate_of_churn\n",
       "3322         no               4  high_rate_of_churn\n",
       "3323         no               5  high_rate_of_churn\n",
       "\n",
       "[267 rows x 3 columns]"
      ]
     },
     "execution_count": 28,
     "metadata": {},
     "output_type": "execute_result"
    }
   ],
   "source": [
    "# Get data set of High rate of churn base on custserv_calls\n",
    "CustServ_Calls_High_Rate_Of_Churn =\\\n",
    "df[['VMail Plan', 'CustServ Calls']].loc[df['CustServ Calls'] >= 4]\n",
    "CustServ_Calls_High_Rate_Of_Churn.loc[:, 'label'] = 'high_rate_of_churn'\n",
    "CustServ_Calls_High_Rate_Of_Churn"
   ]
  },
  {
   "cell_type": "code",
   "execution_count": 29,
   "id": "d08999d8",
   "metadata": {
    "scrolled": false
   },
   "outputs": [
    {
     "data": {
      "image/png": "[encoded data removed]",
      "text/plain": [
       "<Figure size 504x360 with 1 Axes>"
      ]
     },
     "metadata": {
      "needs_background": "light"
     },
     "output_type": "display_data"
    }
   ],
   "source": [
    "# Display distribution of use or not use VMail plan base on customer service call\n",
    "CustServ_Calls_High_Rate_Of_Churn.groupby('VMail Plan')['CustServ Calls'].hist(legend=True, bins=15);"
   ]
  },
  {
   "cell_type": "code",
   "execution_count": 30,
   "id": "2f590647",
   "metadata": {},
   "outputs": [
    {
     "data": {
      "text/plain": [
       "VMail Plan  CustServ Calls\n",
       "no          4                 124\n",
       "            5                  49\n",
       "            6                  13\n",
       "            7                   7\n",
       "            8                   1\n",
       "            9                   1\n",
       "yes         4                  42\n",
       "            5                  17\n",
       "            6                   9\n",
       "            7                   2\n",
       "            8                   1\n",
       "            9                   1\n",
       "Name: CustServ Calls, dtype: int64"
      ]
     },
     "metadata": {},
     "output_type": "display_data"
    }
   ],
   "source": [
    "# Statistic for the above cell\n",
    "k = CustServ_Calls_High_Rate_Of_Churn.groupby('VMail Plan')['CustServ Calls']\n",
    "display(k.value_counts())"
   ]
  },
  {
   "cell_type": "code",
   "execution_count": 31,
   "id": "45342be6",
   "metadata": {},
   "outputs": [
    {
     "data": {
      "text/plain": [
       "[[{'high_rate_of_churn'}, {'no'}, 0.7303370786516854],\n",
       " [{'no'}, {'high_rate_of_churn'}, 1.0]]"
      ]
     },
     "execution_count": 31,
     "metadata": {},
     "output_type": "execute_result"
    }
   ],
   "source": [
    "itemSetList = CustServ_Calls_High_Rate_Of_Churn[['label', 'VMail Plan']].to_numpy()\n",
    "freqItemSet, rules = fpgrowth(itemSetList, minSupRatio=0.5, minConf=0.5)\n",
    "rules\n",
    "# freqItemSet"
   ]
  }
 ],
 "metadata": {
  "kernelspec": {
   "display_name": "Python 3 (ipykernel)",
   "language": "python",
   "name": "python3"
  },
  "language_info": {
   "codemirror_mode": {
    "name": "ipython",
    "version": 3
   },
   "file_extension": ".py",
   "mimetype": "text/x-python",
   "name": "python",
   "nbconvert_exporter": "python",
   "pygments_lexer": "ipython3",
   "version": "3.8.8"
  }
 },
 "nbformat": 4,
 "nbformat_minor": 5
}
